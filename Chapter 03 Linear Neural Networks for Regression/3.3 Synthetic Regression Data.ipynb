{
 "cells": [
  {
   "cell_type": "code",
   "execution_count": 26,
   "metadata": {},
   "outputs": [],
   "source": [
    "import random\n",
    "import torch\n",
    "import sys, os\n",
    "path = \"C:\\\\Users\\\\longln3\\\\Dive-Into-DeepLearning\\\\d2l\"\n",
    "sys.path.append(path)\n",
    "import d2l as d2l"
   ]
  },
  {
   "cell_type": "code",
   "execution_count": 27,
   "metadata": {},
   "outputs": [],
   "source": [
    "class SyntheticRegressionData(d2l.DataModule):\n",
    "    def __init__(self, w, b, noise=0.01, num_train=1000, num_val=1000, batch_size=32):\n",
    "        super().__init__()\n",
    "        self.save_hyperparameters()\n",
    "        n = num_train + num_val\n",
    "        self.X = torch.randn(n, len(w))\n",
    "        noise = torch.randn(n, 1) * noise\n",
    "        self.y = torch.matmul(self.X, w.reshape((-1, 1))) + b + noise"
   ]
  },
  {
   "cell_type": "code",
   "execution_count": 28,
   "metadata": {},
   "outputs": [
    {
     "name": "stdout",
     "output_type": "stream",
     "text": [
      "torch.Size([2000, 2])\n"
     ]
    },
    {
     "data": {
      "text/plain": [
       "tensor([[ 0.7053,  0.4793],\n",
       "        [-0.0837, -1.1187],\n",
       "        [-1.1591, -0.0129],\n",
       "        ...,\n",
       "        [-0.0107,  1.0739],\n",
       "        [-0.7943, -0.7563],\n",
       "        [-0.2017,  0.5742]])"
      ]
     },
     "execution_count": 28,
     "metadata": {},
     "output_type": "execute_result"
    }
   ],
   "source": [
    "w=torch.tensor([2, -3.4])\n",
    "b=4.2\n",
    "data = SyntheticRegressionData(w=w, b=b)\n",
    "print(data.X.shape)\n",
    "data.X"
   ]
  },
  {
   "cell_type": "code",
   "execution_count": 29,
   "metadata": {},
   "outputs": [
    {
     "name": "stdout",
     "output_type": "stream",
     "text": [
      "torch.Size([2000, 1])\n"
     ]
    },
    {
     "data": {
      "text/plain": [
       "tensor([[3.9879],\n",
       "        [7.8180],\n",
       "        [1.9324],\n",
       "        ...,\n",
       "        [0.5432],\n",
       "        [5.1733],\n",
       "        [1.8381]])"
      ]
     },
     "execution_count": 29,
     "metadata": {},
     "output_type": "execute_result"
    }
   ],
   "source": [
    "print(data.y.shape)\n",
    "data.y"
   ]
  },
  {
   "cell_type": "code",
   "execution_count": 30,
   "metadata": {},
   "outputs": [
    {
     "name": "stdout",
     "output_type": "stream",
     "text": [
      "torch.Size([2])\n"
     ]
    },
    {
     "data": {
      "text/plain": [
       "tensor([[3.9811],\n",
       "        [7.8362],\n",
       "        [1.9257],\n",
       "        ...,\n",
       "        [0.5275],\n",
       "        [5.1828],\n",
       "        [1.8443]])"
      ]
     },
     "execution_count": 30,
     "metadata": {},
     "output_type": "execute_result"
    }
   ],
   "source": [
    "print(w.shape)\n",
    "data.X@w.reshape(-1,1) + b"
   ]
  },
  {
   "cell_type": "code",
   "execution_count": null,
   "metadata": {},
   "outputs": [],
   "source": [
    "@d2l.add_to_class(SyntheticRegressionData)\n",
    "def get_dataloader(self, train):\n",
    "    "
   ]
  }
 ],
 "metadata": {
  "kernelspec": {
   "display_name": "Python 3.9.12 ('base')",
   "language": "python",
   "name": "python3"
  },
  "language_info": {
   "codemirror_mode": {
    "name": "ipython",
    "version": 3
   },
   "file_extension": ".py",
   "mimetype": "text/x-python",
   "name": "python",
   "nbconvert_exporter": "python",
   "pygments_lexer": "ipython3",
   "version": "3.9.12"
  },
  "orig_nbformat": 4,
  "vscode": {
   "interpreter": {
    "hash": "29842f096b039504e55cf96bcffd01d9cbf89740ad11d5616300fb38b587160c"
   }
  }
 },
 "nbformat": 4,
 "nbformat_minor": 2
}
